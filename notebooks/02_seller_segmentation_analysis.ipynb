{
  "cells": [
    {
      "cell_type": "code",
      "execution_count": null,
      "metadata": {
        "vscode": {
          "languageId": "plaintext"
        }
      },
      "outputs": [],
      "source": [
        "# Olist卖家分级分类分析\n",
        "\n",
        "## 分析背景\n",
        "基于Amazon Global Selling ESM (Existing Seller Management) 最佳实践，构建数据驱动的卖家分级管理体系。\n",
        "\n",
        "## 业务目标\n",
        "1. **精准分级**: 建立多维度卖家评估模型\n",
        "2. **风险识别**: 提前发现问题卖家\n",
        "3. **增长机会**: 识别高潜力卖家群体\n",
        "4. **资源配置**: 为不同等级卖家制定差异化策略\n",
        "\n",
        "## 模型方法\n",
        "- **业务规则**: 基于行业经验的分级标准\n",
        "- **机器学习**: K-means聚类发现数据模式\n",
        "- **混合方法**: 结合规则和算法的最优方案\n"
      ]
    },
    {
      "cell_type": "code",
      "execution_count": null,
      "metadata": {},
      "outputs": [],
      "source": [
        "# 导入必要的库\n",
        "import pandas as pd\n",
        "import numpy as np\n",
        "import matplotlib.pyplot as plt\n",
        "import seaborn as sns\n",
        "import plotly.express as px\n",
        "import plotly.graph_objects as go\n",
        "import warnings\n",
        "warnings.filterwarnings('ignore')\n",
        "\n",
        "# 导入自定义模块\n",
        "import sys\n",
        "sys.path.append('../src')\n",
        "from business_metrics import SellerMetricsFramework, TIER_STRATEGIES\n",
        "from data_pipeline import OlistDataPipeline\n",
        "from seller_segmentation import SellerSegmentationModel\n",
        "\n",
        "# 设置显示\n",
        "plt.rcParams['font.sans-serif'] = ['Arial Unicode MS', 'SimHei']\n",
        "plt.rcParams['axes.unicode_minus'] = False\n",
        "pd.set_option('display.max_columns', None)\n"
      ]
    },
    {
      "cell_type": "code",
      "execution_count": null,
      "metadata": {},
      "outputs": [],
      "source": [
        "## 1. 数据准备与特征工程\n"
      ]
    },
    {
      "cell_type": "code",
      "execution_count": null,
      "metadata": {},
      "outputs": [],
      "source": [
        "# 运行数据处理管道\n",
        "print(\"🔄 运行数据处理管道...\")\n",
        "pipeline = OlistDataPipeline()\n",
        "pipeline_results = pipeline.run_full_pipeline(save_output=True)\n",
        "\n",
        "# 获取处理后的卖家特征数据\n",
        "seller_features = pipeline_results['seller_features']\n",
        "print(f\"\\n📊 卖家特征数据: {seller_features.shape}\")\n",
        "print(f\"🎯 活跃卖家数量: {(seller_features['total_orders'] > 0).sum():,}\")\n",
        "\n",
        "# 显示关键特征的描述统计\n",
        "key_features = ['total_revenue', 'total_orders', 'avg_review_score', 'unique_products', 'positive_rate']\n",
        "print(f\"\\n📋 关键特征描述统计:\")\n",
        "seller_features[key_features].describe().round(2)\n"
      ]
    }
  ],
  "metadata": {
    "language_info": {
      "name": "python"
    }
  },
  "nbformat": 4,
  "nbformat_minor": 2
}
