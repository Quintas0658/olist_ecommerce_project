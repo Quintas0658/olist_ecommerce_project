{
  "cells": [
    {
      "cell_type": "code",
      "execution_count": null,
      "metadata": {
        "vscode": {
          "languageId": "plaintext"
        }
      },
      "outputs": [],
      "source": [
        "# Olist平台卖家数据探索分析\n",
        "\n",
        "## 分析目标\n",
        "1. 了解数据质量和完整性\n",
        "2. 探索卖家业务表现分布特征\n",
        "3. 识别关键业务指标和相关性\n",
        "4. 为卖家分级模型奠定数据基础\n",
        "\n",
        "## 业务背景\n",
        "作为电商平台的数据分析师，我们需要构建一套卖家管理体系来:\n",
        "- 识别高价值卖家进行重点扶持\n",
        "- 发现潜在问题卖家及时干预  \n",
        "- 制定差异化的卖家服务策略\n",
        "- 提升整体平台的卖家生态健康度\n"
      ]
    },
    {
      "cell_type": "code",
      "execution_count": null,
      "metadata": {},
      "outputs": [],
      "source": [
        "# 导入必要的库\n",
        "import pandas as pd\n",
        "import numpy as np\n",
        "import matplotlib.pyplot as plt\n",
        "import seaborn as sns\n",
        "import plotly.express as px\n",
        "import plotly.graph_objects as go\n",
        "from datetime import datetime\n",
        "import warnings\n",
        "warnings.filterwarnings('ignore')\n",
        "\n",
        "# 设置中文字体\n",
        "plt.rcParams['font.sans-serif'] = ['Arial Unicode MS', 'SimHei']\n",
        "plt.rcParams['axes.unicode_minus'] = False\n",
        "\n",
        "# 设置pandas显示选项\n",
        "pd.set_option('display.max_columns', None)\n",
        "pd.set_option('display.max_rows', 100)\n"
      ]
    },
    {
      "cell_type": "code",
      "execution_count": null,
      "metadata": {},
      "outputs": [],
      "source": [
        "## 1. 数据加载与基础信息\n"
      ]
    },
    {
      "cell_type": "code",
      "execution_count": null,
      "metadata": {},
      "outputs": [],
      "source": [
        "# 加载核心数据表\n",
        "print(\"📊 加载Olist电商数据...\")\n",
        "\n",
        "# 卖家基础信息\n",
        "sellers = pd.read_csv('../archive/olist_sellers_dataset.csv')\n",
        "print(f\"✅ 卖家数据: {sellers.shape[0]:,} 条记录\")\n",
        "\n",
        "# 订单信息\n",
        "orders = pd.read_csv('../archive/olist_orders_dataset.csv')\n",
        "print(f\"✅ 订单数据: {orders.shape[0]:,} 条记录\")\n",
        "\n",
        "# 订单商品明细\n",
        "order_items = pd.read_csv('../archive/olist_order_items_dataset.csv')\n",
        "print(f\"✅ 订单商品: {order_items.shape[0]:,} 条记录\")\n",
        "\n",
        "# 客户评价\n",
        "reviews = pd.read_csv('../archive/olist_order_reviews_dataset.csv')\n",
        "print(f\"✅ 客户评价: {reviews.shape[0]:,} 条记录\")\n",
        "\n",
        "# 商品信息\n",
        "products = pd.read_csv('../archive/olist_products_dataset.csv')\n",
        "print(f\"✅ 商品信息: {products.shape[0]:,} 条记录\")\n",
        "\n",
        "# 商品类别翻译\n",
        "category_translation = pd.read_csv('../archive/product_category_name_translation.csv')\n",
        "print(f\"✅ 类别翻译: {category_translation.shape[0]:,} 条记录\")\n",
        "\n",
        "print(f\"\\n🎯 数据加载完成! 数据时间跨度: 2016-2018年\")\n"
      ]
    }
  ],
  "metadata": {
    "language_info": {
      "name": "python"
    }
  },
  "nbformat": 4,
  "nbformat_minor": 2
}
